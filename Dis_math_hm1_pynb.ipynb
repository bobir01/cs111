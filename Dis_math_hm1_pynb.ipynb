{
  "nbformat": 4,
  "nbformat_minor": 0,
  "metadata": {
    "colab": {
      "name": "Dis_math_hm1.pynb",
      "provenance": [],
      "collapsed_sections": [],
      "authorship_tag": "ABX9TyNnDg0R75ZPzP+PMSBeSGdD",
      "include_colab_link": true
    },
    "kernelspec": {
      "name": "python3",
      "display_name": "Python 3"
    },
    "language_info": {
      "name": "python"
    }
  },
  "cells": [
    {
      "cell_type": "markdown",
      "metadata": {
        "id": "view-in-github",
        "colab_type": "text"
      },
      "source": [
        "<a href=\"https://colab.research.google.com/github/bobir01/cs111/blob/master/Dis_math_hm1_pynb.ipynb\" target=\"_parent\"><img src=\"https://colab.research.google.com/assets/colab-badge.svg\" alt=\"Open In Colab\"/></a>"
      ]
    },
    {
      "cell_type": "markdown",
      "source": [
        "Discreate math Homework 1  \n",
        "\n",
        "1.Procedure: Sum    \n",
        "sum:=0  \n",
        "for i:=1 to n:  \n",
        ">sum:=sum+(i+1)($a_i$)  \n",
        "\n",
        "return sum"
      ],
      "metadata": {
        "id": "icr_LWEHfsgo"
      }
    },
    {
      "cell_type": "markdown",
      "source": [
        "2.Procedure:Sum($a_1, a_2, a_3, ... a_n$)  \n",
        "s_sum:=0  \n",
        "m_sum:=$a_1$  \n",
        "for i:=1 to n-1:\n",
        ">for j:=1 to i+1:\n",
        ">>s_sum:=s_sum+$a_j$  \n",
        ">\n",
        ">m_sum:=m_sum + s_sum  \n",
        "s_sum=0\n",
        "\n",
        "return m_sum"
      ],
      "metadata": {
        "id": "SC3jmyerhJsm"
      }
    },
    {
      "cell_type": "markdown",
      "source": [
        "3.Procedure:Power(a, n)  \n",
        "powered_n:=1  \n",
        "for i:=1 to n:  \n",
        ">powered_n:=powered_n * a  \n",
        "\n",
        "return powered_n"
      ],
      "metadata": {
        "id": "YbniSPF6jjwR"
      }
    },
    {
      "cell_type": "markdown",
      "source": [
        "4.Procedure:Powered_product($a_1, a_2, a_3, ... a_n$)  \n",
        "product:=1  \n",
        "for i:=1 to n:  \n",
        ">product:=product*Power($a_i,i$)  \n",
        "\n",
        "return product"
      ],
      "metadata": {
        "id": "tl7jTdHQkLey"
      }
    },
    {
      "cell_type": "markdown",
      "source": [
        "5.Procedure:BigProduct($a_1, a_2, a_3, ... a_n$)  \n",
        "m_product:=$a_1$  \n",
        "s_product:=0  \n",
        "for i:=1 to n-1:\n",
        ">for j:=1 to i+1:  \n",
        ">>s_product:=s_product+$a_j$  \n",
        "> \n",
        ">m_product:=m_product * s_product  \n",
        ">s_product:=0  \n",
        "\n",
        "return m_product"
      ],
      "metadata": {
        "id": "ymGFyVWPlMS2"
      }
    },
    {
      "cell_type": "markdown",
      "source": [
        "6.Procedu:Product($a_1, a_2, a_3, ... a_n$)  \n",
        "product:=1  \n",
        "for i:=1 to n:  \n",
        ">product:=product*$a_i$  \n",
        "\n",
        "return product"
      ],
      "metadata": {
        "id": "u46D-c5Lmlg_"
      }
    },
    {
      "cell_type": "markdown",
      "source": [
        "7.Procedure:MinMax_mean($a_1, a_2, a_3, ... a_n$)  \n",
        "max=0  \n",
        "min=$a_1$  \n",
        "for i:=1 to n:  \n",
        ">if max<$a_i$:\n",
        ">>max:=$a_i$  \n",
        ">\n",
        ">if min>$a_i$:  \n",
        ">\n",
        ">>min:=$a_i$  \n",
        "\n",
        "mean:=m(min+max)/2  \n",
        "return mean\n",
        "\n"
      ],
      "metadata": {
        "id": "hVBRxvannWoH"
      }
    },
    {
      "cell_type": "markdown",
      "source": [
        "8.Precedure:LeastNumber($a_1, a_2, a_3, ... a_n$)  \n",
        "m_min:=$a_1$  \n",
        "for i:=1 to n:  \n",
        ">if m_min>$a_i$:  \n",
        ">>m_min:=$a_i$\n",
        "\n",
        "return m_min"
      ],
      "metadata": {
        "id": "9mWJF2Q6olsp"
      }
    },
    {
      "cell_type": "markdown",
      "source": [
        "9.Precedure:FindNum($a_1, a_2, a_3, ... a_n$)  \n",
        "for i:=1 to n:  \n",
        ">if $a_1=a_i$ :    \n",
        ">>print($a_1$)  \n"
      ],
      "metadata": {
        "id": "8I6khDbIpPkn"
      }
    },
    {
      "cell_type": "markdown",
      "source": [
        "10.Precedure:FindNum( $p_1,p_2,p_3,...p_n $)  \n",
        "for i:=1 to n:  \n",
        ">if $p_i=7$:   \n",
        ">>print($p_i$)"
      ],
      "metadata": {
        "id": "wo9ltOyUrd6-"
      }
    },
    {
      "cell_type": "markdown",
      "source": [
        "11.Precedure:Lsearch($x$)  \n",
        "index:=0  \n",
        "for n to 1:  \n",
        ">if $a_n\\geq$ x:  \n",
        ">>index:=n\n",
        "\n",
        "return index-1\n"
      ],
      "metadata": {
        "id": "MkDq0wXisCZV"
      }
    },
    {
      "cell_type": "markdown",
      "source": [
        "12. if $a_1<a_2$ then swap($a_1, a_2$)  \n",
        "if $a_2<a_3$ then swap($a_2, a_3$)  \n",
        "if $a_1<a_2$ then swap($a_1, a_2$)  \n"
      ],
      "metadata": {
        "id": "XvWYJOQitSQa"
      }
    },
    {
      "cell_type": "markdown",
      "source": [
        "13. a) $\\exists$x($C(x)∧D(x)∧F(x))$  \n",
        "b) $∀x$ $(C(x)∧D(x)\\vee F(x))$  \n",
        "c) ∃x $(C(x)∧F(x)∧¬D(x)$)  \n",
        "d) ∀x$(\\neg C(x)∧¬ D(x)∧¬ F(x))$  \n",
        "e) ∃x$(C(x)∨D(e)∨F(x))$"
      ],
      "metadata": {
        "id": "gbNQTjaeuDA5"
      }
    },
    {
      "cell_type": "markdown",
      "source": [
        "14.a)  \n",
        "C(x) = \"x is in correct place\"  \n",
        "∃x$(¬C(x))$  \n",
        "b) E(x)=\"x in excellent condition\"  \n",
        "x = \"tools\"  \n",
        "∀x$(C(x)∧E(x))$  \n",
        "c)  x = \"thing\"  \n",
        " ∀x$(C(x)∧E(x))$  \n",
        "d) ¬∀x$(C(x)∧E(x))$  \n",
        "e) x= \"tools\"  \n",
        "∃x $(¬C(x)∧E(x))$\n"
      ],
      "metadata": {
        "id": "UTM62Gsq9d68"
      }
    },
    {
      "cell_type": "markdown",
      "source": [
        "15.a) $∃p(F(p)∧ B(p) )$ → $∃jL(j)$  \n",
        "If there is a printer is both out of service and busy, then some job has been lost  \n",
        "b) $∀B(p) → ∃jQ(j)   $  \n",
        "If every printer is busy, then there is a job in queue.   \n",
        "c) $∃j(Q(j) ∧ L(j) ) → ∃pF(p) $   \n",
        "If there is a job that queued and lost, then some printer is out of service   \n",
        "d)$ ∀ p (B(p) ∧ ∀jQ(j)) → ∃jL(j) $   \n",
        "If printer is busy nad every job is queued, then some job lost \n",
        "\n"
      ],
      "metadata": {
        "id": "XXWyjZQ3_4qM"
      }
    },
    {
      "cell_type": "markdown",
      "source": [
        "16.a) Abdullah Hussein does not like Japanese cuisine   \n",
        "b) Some student at your school likes Korean cuisine and everyone at your school likes Mexican cuisine  \n",
        "c) There is some cuisine that either Monique Arsenalt or Jay Johnson likes  \n",
        "d) For every pair od distinct studunts at your school there is some cuisine that at least one of your them does not like   \n",
        "e) There are two students at your school who have exactly the same tastes.  \n",
        "f) For every pair of students at your school there is some cuisine about which they have the same opinion.   \n"
      ],
      "metadata": {
        "id": "d2g5ItXICa2j"
      }
    },
    {
      "cell_type": "markdown",
      "source": [
        "17.$ ∃x ∀y ¬P(x,y) ∨ ∀z ¬R(x.y,z)$"
      ],
      "metadata": {
        "id": "uA1C9qZ8Eyht"
      }
    },
    {
      "cell_type": "markdown",
      "source": [
        "18.a) for all reciprical of nonzero real numbers, there is a nonzero real number that makes statement true  \n",
        "$2^{-1} * 2 = 1 $  \n",
        "c) the same consitions make the statement true   \n",
        "19.b) Q(2,0)  \n",
        "20.a)$  ∃x∀y ¬P(x,y) → ¬Q(x,y)$  \n",
        "b) $∀y(¬Q(y)) ∨ ∃xR(x,y)$   \n",
        "c) $∃x∃y¬R(x,y)  $  \n",
        "d)$ ∃n∀m(n^2 >m)$  \n",
        "21.a) y:= \"Fred\" ;      ∀$(F(x,y)$  \n",
        "b) x:= \"Anna\"   ; ∀y(F(x,y))  \n",
        "c) ∀x∃y (F(x,y))  \n",
        "d) $∀x¬(F(x,y)  ∧ F(x,z)) ;    $  z:= \"Jerry\"\n"
      ],
      "metadata": {
        "id": "AyfoNvufFHqk"
      }
    }
  ]
}